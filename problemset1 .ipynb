{
 "cells": [
  {
   "cell_type": "markdown",
   "id": "0c322f8c",
   "metadata": {},
   "source": [
    "# Problem Set 1\n",
    "## BDAT 1004  \n",
    "## Raman Preet Singh\n",
    "## 200544703@student.georgianc.on.ca\n"
   ]
  },
  {
   "attachments": {},
   "cell_type": "markdown",
   "id": "b7fa68ad",
   "metadata": {},
   "source": [
    "### Question 1"
   ]
  },
  {
   "cell_type": "code",
   "execution_count": 3,
   "id": "8ea68302",
   "metadata": {},
   "outputs": [
    {
     "name": "stdout",
     "output_type": "stream",
     "text": [
      "5 is Integer Data Type\n",
      "5.0 is Float Data Type\n",
      "5>1 Boolean  Data Type\n",
      "'5'is Character Data Type\n",
      "Integer Data Type 10\n",
      "103 Integer Data Type\n",
      "2 Integer Data Type\n",
      "1Integer Data Type\n",
      "{5,2,1} Integer Array\n",
      "5==3 is Boolean Data Type\n",
      "pi (The number) is double Data type\n"
     ]
    }
   ],
   "source": [
    "Console.WriteLine(\"5 is Integer Data Type\");\n",
    "Console.WriteLine(\"5.0 is Float Data Type\");\n",
    "Console.WriteLine(\"5>1 Boolean  Data Type\");\n",
    "Console.WriteLine(\"'5'\"+\"is Character Data Type\");\n",
    "Console.WriteLine(\"Integer Data Type \"+5*2);\n",
    "Console.WriteLine('5'+'2'+\" Integer Data Type\");\n",
    "Console.WriteLine((5/2)+\" Integer Data Type\");\n",
    "Console.WriteLine((5%2)+\"Integer Data Type\");\n",
    "Console.WriteLine(\"{5,2,1} Integer Array\");\n",
    "Console.WriteLine(\"5==3 is Boolean Data Type\");\n",
    "Console.WriteLine(\"pi (The number) is double Data type\");\n"
   ]
  },
  {
   "cell_type": "markdown",
   "id": "823a239e",
   "metadata": {},
   "source": [
    "## Question 2 C#\n"
   ]
  },
  {
   "cell_type": "code",
   "execution_count": 4,
   "id": "97b76e60",
   "metadata": {},
   "outputs": [
    {
     "name": "stdout",
     "output_type": "stream",
     "text": [
      "34\n"
     ]
    }
   ],
   "source": [
    "//ANS a:\n",
    "int letters = 0;\n",
    "string a = \"Supercalifragilisticexpialidocious\";\n",
    "foreach (char letter in a)\n",
    "{\n",
    "    letters++;\n",
    "}\n",
    "Console.WriteLine(letters);"
   ]
  },
  {
   "cell_type": "code",
   "execution_count": 5,
   "id": "d71f6e4f",
   "metadata": {},
   "outputs": [
    {
     "name": "stdout",
     "output_type": "stream",
     "text": [
      "Is ice in Supercalifragilisticexpialidocious (true/false) :True\n"
     ]
    }
   ],
   "source": [
    "//ANS b:\n",
    "        String str = \"Supercalifragilisticexpialidocious\";\n",
    "        String value = \"ice\";\n",
    "        Boolean result = str.Contains(value);\n",
    "        Console.WriteLine($\"Is ice in Supercalifragilisticexpialidocious (true/false) :{result}\");"
   ]
  },
  {
   "cell_type": "code",
   "execution_count": 6,
   "id": "732bcb35",
   "metadata": {},
   "outputs": [
    {
     "name": "stdout",
     "output_type": "stream",
     "text": [
      "Supercalifragilisticexpialidocious is largest string\n"
     ]
    }
   ],
   "source": [
    "//ANS c:\n",
    "        String str = \"Supercalifragilisticexpialidocious\";\n",
    "        String str1 = \"Honorificabilitudinitatibus\";\n",
    "        String str2 = \"Bababadalgharaghtakamminarronnkonn\";\n",
    "        if(string.Compare(str,str1) == 1 && string.Compare(str,str2) == 1){\n",
    "            Console.WriteLine(str + \" is largest string\");\n",
    "        }else if(string.Compare(str1,str) == 1 && string.Compare(str1,str2) == 1){\n",
    "           Console.WriteLine(str + \"is largest string\");\n",
    "        }else if(string.Compare(str2,str) == 1 && string.Compare(str2,str1) == 1){\n",
    "            Console.WriteLine(str2 + \"is largest string\");\n",
    "        }\n",
    "        "
   ]
  },
  {
   "cell_type": "code",
   "execution_count": 97,
   "id": "df107eab",
   "metadata": {},
   "outputs": [],
   "source": [
    "//ANS d:\n"
   ]
  },
  {
   "cell_type": "markdown",
   "id": "6dcd4557",
   "metadata": {},
   "source": [
    "### Question 3 C#\n"
   ]
  },
  {
   "cell_type": "code",
   "execution_count": 98,
   "id": "351c11d9",
   "metadata": {},
   "outputs": [
    {
     "name": "stdout",
     "output_type": "stream",
     "text": [
      "Enter three Side of triangle:\n",
      "Area Of Triangle:1.7320508075688772\n"
     ]
    }
   ],
   "source": [
    "    double area = triangleArea(2,2,2);  \n",
    "    Console.WriteLine(\"Area Of Triangle:\"+area);\n",
    "    \n",
    "    double triangleArea(double a,double b,double c){\n",
    "    Console.WriteLine(\"Enter three Side of triangle:\");\n",
    "    \n",
    "        double semiperi = (a + b + c) / 2;\n",
    "        double Area = Math.Sqrt(semiperi * (semiperi - a) * (semiperi - b) * (semiperi - c));\n",
    "        return Area;\n",
    "        }\n"
   ]
  },
  {
   "cell_type": "markdown",
   "id": "842afb01",
   "metadata": {},
   "source": [
    "### Question 4 C#\n"
   ]
  },
  {
   "cell_type": "code",
   "execution_count": 23,
   "id": "6b4421eb",
   "metadata": {},
   "outputs": [
    {
     "name": "stdout",
     "output_type": "stream",
     "text": [
      "Input the number of elements to be stored in the array :5\n",
      "The Even Element are:\n",
      "42 56 32 \n",
      "The Odd Element are:\n",
      "25 47 "
     ]
    }
   ],
   "source": [
    "    int[] ar = {25,47,42,56,32};\n",
    "    int [] ev = new int[5];\n",
    "    int [] od = new int [5];\n",
    "    Console.WriteLine(\"Input the number of elements to be stored in the array :5\");\n",
    "    for(int i=0;i<5;i++){\n",
    "        if(ar[i] % 2 == 0){\n",
    "            ev[i] = ar[i];\n",
    "        }\n",
    "        else{\n",
    "            od[i] = ar [i];\n",
    "        }\n",
    "      //  Console.WriteLine(\"element -\"+i+\" : \"+ar[i]);\n",
    "    }\n",
    "    Console.WriteLine(\"The Even Element are:\");\n",
    "    for(int j = 2;j<5;j++){\n",
    "        Console.Write(ev[j]+\" \");\n",
    "    }\n",
    "    Console.WriteLine(\"\\nThe Odd Element are:\");\n",
    "    for(int z=0;z<2;z++){\n",
    "        Console.Write(od[z]+\" \");\n",
    "    }"
   ]
  },
  {
   "cell_type": "markdown",
   "id": "a5bbf59e",
   "metadata": {},
   "source": [
    "### Question 5 C#\n",
    "\n"
   ]
  },
  {
   "cell_type": "code",
   "execution_count": 38,
   "id": "e2996e8b",
   "metadata": {},
   "outputs": [
    {
     "name": "stdout",
     "output_type": "stream",
     "text": [
      "Triangle with corner(0,0),(2,3):False\n",
      "Triangle with corner(0.3,0.5),(1.1,0.7):False\n",
      "Triange with corner(0.5,0.2),(1.1,2):True\n"
     ]
    }
   ],
   "source": [
    "//ANS a.\n",
    "bool i = inside(-1,-1,0,0,2,3);\n",
    "\n",
    "Console.WriteLine(\"Triangle with corner(0,0),(2,3):\"+i);\n",
    "bool inside(double x,double y,double x1,double y1,double x2,double y2){\n",
    "    if (x > x1 && x < x2 &&\n",
    "    y > y1 && y < y2)\n",
    "    return true;\n",
    " //refrence geekforgeeks\n",
    " //https://www.geeksforgeeks.org/check-if-a-point-lies-on-or-inside-a-rectangle-set-2/\n",
    "return false;\n",
    "}\n",
    "\n",
    "//ANS b\n",
    "bool i1 = inside(1,1,0.3,0.5,1.1,0.7);\n",
    "Console.WriteLine(\"Triangle with corner(0.3,0.5),(1.1,0.7):\"+i1);\n",
    "bool i2 = inside(1,1,0.5,0.2,1.1,2);\n",
    "Console.WriteLine(\"Triange with corner(0.5,0.2),(1.1,2):\"+i2);"
   ]
  },
  {
   "cell_type": "markdown",
   "id": "f5683c52",
   "metadata": {},
   "source": [
    "### Question 6 Python\n"
   ]
  },
  {
   "cell_type": "code",
   "execution_count": 77,
   "id": "4d0634f9",
   "metadata": {},
   "outputs": [
    {
     "name": "stdout",
     "output_type": "stream",
     "text": [
      "['appyhay']\n",
      "['encilpay']\n",
      "['enterway']\n",
      "['otherway']\n"
     ]
    }
   ],
   "source": [
    "##refrence:https://stackoverflow.com/questions/51508664/python-pig-latin-converter-words-that-start-with-consonants\n",
    "def pig(name):\n",
    "    words = name.lower().split(\" \")\n",
    "    vowels = ['a', 'e', 'i', 'o', 'u']\n",
    "    name = [];\n",
    "    eachWord = []\n",
    "    for word in words:\n",
    "        if word[0] in 'aeiou': \n",
    "            name.append(word + 'way')\n",
    "        else:\n",
    "            for letter in word:\n",
    "                if letter in 'aeiou':\n",
    "                    name.append(word[word.index(letter):] + word[:word.index(letter)] +'ay')\n",
    "                    break\n",
    "    return name\n",
    "\n",
    "\n",
    "f = pig('happy')\n",
    "print(f)\n",
    "f = pig('pencil')\n",
    "print(f)\n",
    "f = pig('enter')\n",
    "print(f)\n",
    "f = pig('other')\n",
    "print(f)\n"
   ]
  },
  {
   "cell_type": "markdown",
   "id": "3d0ae606",
   "metadata": {},
   "source": [
    "### Question 7 Python\n"
   ]
  },
  {
   "cell_type": "code",
   "execution_count": 30,
   "id": "67ae594c",
   "metadata": {},
   "outputs": [
    {
     "name": "stdout",
     "output_type": "stream",
     "text": [
      "thare are 28 patients of blood type A\n",
      "thare are 14 patients of blood type B\n",
      "thare are 44 patients of blood type  \n",
      "thare are 15 patients of blood type O\n"
     ]
    }
   ],
   "source": [
    "def bldcount(filename):\n",
    "    f = open(filename, \"r\")\n",
    "    \n",
    "    file = f.readline()\n",
    "    elements_count = {}\n",
    "    for element in file:\n",
    "        if element in elements_count:\n",
    "            elements_count[element] += 1\n",
    "        else:\n",
    "            elements_count[element] = 1\n",
    "        \n",
    "    for key, value in elements_count.items():\n",
    "           print(f\"thare are {value} patients of blood type {key}\")\n",
    "            \n",
    "bldcount(\"/Users/ramanpreetsingh/Desktop/bloodtype\")"
   ]
  },
  {
   "cell_type": "markdown",
   "id": "d94a8507",
   "metadata": {},
   "source": [
    "### Questions 8 \n"
   ]
  },
  {
   "cell_type": "code",
   "execution_count": 14,
   "id": "c29f088e",
   "metadata": {},
   "outputs": [
    {
     "name": "stdout",
     "output_type": "stream",
     "text": [
      "122.96544\n",
      "1.241401\n"
     ]
    }
   ],
   "source": [
    "def curconv(currency, amount):\n",
    "    fp = open(\"/Users/ramanpreetsingh/Desktop/currency\")\n",
    "    for line in fp.readlines():\n",
    "        cols = line.strip().split()\n",
    "        (cur_type, rate, cur_name) = (cols[0], float(cols[1]), ' '.join(cols))\n",
    "        if(cur_type == currency):\n",
    "            break\n",
    "    fp.close()\n",
    "    return rate * amount\n",
    "\n",
    "r = curconv('EUR',100)\n",
    "print(r)\n",
    "q = curconv('JPY',100)\n",
    "print(q) "
   ]
  },
  {
   "cell_type": "markdown",
   "id": "d2d72743",
   "metadata": {},
   "source": [
    "### Question 9 \n"
   ]
  },
  {
   "cell_type": "markdown",
   "id": "6e011986",
   "metadata": {},
   "source": [
    "1. Trying to add incompatible variables, as in adding 6 + 'a' :\n",
    "from the above given statement by adding integer with a character comipler will throw as error\n",
    "that error would be called TYPE ERROR \n",
    "Compiler statement shows as below\n",
    "TypeError: unsupported operand type(s) for +: 'int' and 'str' #this is  represented in the console\n",
    "\n",
    "2.  Referring to the12th item of a list that has only 10 items:\n",
    "it will generate an index error that would arrayoutoflist \n",
    "error shows in comipler as below\n",
    "IndexError: list index out of range \n",
    "This error is called index error\n",
    "\n",
    "3. Using a value that is out of range for a function's input, such as calling math.sqrt(−1.0):\n",
    "finding the sqaure root of the negative statement will surely throws an a error that error is called ValueError\n",
    "Error show in compiler\n",
    "ValueError: math domain error #this is  represented in the console\n",
    "\n",
    "4. Using an undeclared variable, such as print(x) when x has not been defined: \n",
    "here we are printing the value of x but it is not defined in the program so that i will generate error called nameerror \n",
    "\n",
    "5. Trying to open a file that does not exist, such as mistyping the file name or looking in the wrong directory.\n",
    "this error is filenotfound it throw by the compiler when we try to find the file but these file are out of folder we are looking into error is FIleNotFound\n",
    "\n"
   ]
  },
  {
   "cell_type": "markdown",
   "id": "a4d20f2f",
   "metadata": {},
   "source": [
    "### Question 10"
   ]
  },
  {
   "cell_type": "code",
   "execution_count": 31,
   "id": "3bae25ec",
   "metadata": {},
   "outputs": [
    {
     "name": "stdout",
     "output_type": "stream",
     "text": [
      "[1, 1, 1, 3, 5, 1, 1, 2, 1, 0, 1, 0, 1, 2, 4, 0, 1, 2, 0, 3, 1, 0, 1, 1, 0, 0]\n",
      "[1, 0, 0, 0, 1, 0, 0, 0, 0, 0, 0, 1, 0, 0, 0, 2, 0, 0, 0, 0, 0, 0, 0, 0, 0, 0]\n"
     ]
    }
   ],
   "source": [
    "# function definition\n",
    "def frequencies(text):\n",
    "    letters = 'abcdefghijklmnopqrstuvwxyz'\n",
    "    freq = [0] * 26 # define an array of frequencies\n",
    "\n",
    "    # start checking for each letter\n",
    "    for i in range(26):\n",
    "        # traverse the given text\n",
    "        for letter in text:\n",
    "            # if current alphabet is same as letter\n",
    "            if letters[i] == letter.lower():\n",
    "                freq[i] += 1\n",
    "\n",
    "    # return the resultant array\n",
    "    return freq\n",
    "\n",
    "print(frequencies(\"The quick red fox got bored and went home.\"))\n",
    "print(frequencies(\"apple\"))"
   ]
  }
 ],
 "metadata": {
  "kernelspec": {
   "display_name": ".NET (C#)",
   "language": "C#",
   "name": ".net-csharp"
  },
  "language_info": {
   "file_extension": ".cs",
   "mimetype": "text/x-csharp",
   "name": "C#",
   "pygments_lexer": "csharp",
   "version": "11.0"
  }
 },
 "nbformat": 4,
 "nbformat_minor": 5
}
